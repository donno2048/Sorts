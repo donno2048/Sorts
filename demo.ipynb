{
 "metadata": {
  "language_info": {
   "codemirror_mode": {
    "name": "ipython",
    "version": 3
   },
   "file_extension": ".py",
   "mimetype": "text/x-python",
   "name": "python",
   "nbconvert_exporter": "python",
   "pygments_lexer": "ipython3",
   "version": "3.8.3-final"
  },
  "orig_nbformat": 2,
  "kernelspec": {
   "name": "python383jvsc74a57bd0a5673a02c7eeb6f4ffeb34550b9c0a0739043c1c19e9dbf8016bb1e097e4a0ce",
   "display_name": "Python 3.8.3 64-bit"
  }
 },
 "nbformat": 4,
 "nbformat_minor": 2,
 "cells": [
  {
   "cell_type": "code",
   "execution_count": 1,
   "metadata": {},
   "outputs": [],
   "source": [
    "from sort import mergeSort, bubbleSort, selectionSort, bitonicSort"
   ]
  },
  {
   "cell_type": "code",
   "execution_count": 2,
   "metadata": {},
   "outputs": [],
   "source": [
    "from random import randint"
   ]
  },
  {
   "cell_type": "code",
   "execution_count": 3,
   "metadata": {},
   "outputs": [
    {
     "output_type": "stream",
     "name": "stdout",
     "text": [
      "Wall time: 4.91 ms\n"
     ]
    }
   ],
   "source": [
    "l = [randint(0, 1000) for i in range(256)]\n",
    "sortedL = sorted(l)\n",
    "%time sortedL2 = mergeSort(l) # Ω(n log n)\n",
    "assert sortedL == sortedL2"
   ]
  },
  {
   "cell_type": "code",
   "execution_count": 4,
   "metadata": {},
   "outputs": [
    {
     "output_type": "stream",
     "name": "stdout",
     "text": [
      "Wall time: 8 ms\n"
     ]
    }
   ],
   "source": [
    "l = [randint(0, 1000) for i in range(256)]\n",
    "sortedL = sorted(l)\n",
    "%time sortedL2 = bubbleSort(l) # Ω(n)\n",
    "assert sortedL == sortedL2"
   ]
  },
  {
   "cell_type": "code",
   "execution_count": 5,
   "metadata": {},
   "outputs": [
    {
     "output_type": "stream",
     "name": "stdout",
     "text": [
      "Wall time: 0 ns\n"
     ]
    }
   ],
   "source": [
    "l = [randint(0, 1000) for i in range(256)]\n",
    "sortedL = sorted(l)\n",
    "%time sortedL2 = selectionSort(l) # Ω(n²)\n",
    "assert sortedL == sortedL2"
   ]
  },
  {
   "cell_type": "code",
   "execution_count": 6,
   "metadata": {},
   "outputs": [
    {
     "output_type": "stream",
     "name": "stdout",
     "text": [
      "Wall time: 0 ns\n"
     ]
    }
   ],
   "source": [
    "l = [randint(0, 1000) for i in range(256)]\n",
    "sortedL = sorted(l)\n",
    "%time sortedL2 = bitonicSort(l) # Ω(log² n)\n",
    "assert sortedL == sortedL2"
   ]
  }
 ]
}